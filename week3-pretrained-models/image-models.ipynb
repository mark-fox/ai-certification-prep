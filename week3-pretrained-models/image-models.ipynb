{
 "cells": [
  {
   "cell_type": "markdown",
   "id": "13c9eef1",
   "metadata": {},
   "source": [
    "# 🏷️ Image Classification with Pretrained Models\n",
    "\n",
    "In this section, we will use a pre-trained image classification model to predict what is shown in a given image.\n",
    "\n",
    "We'll use Hugging Face's `image-classification` pipeline."
   ]
  },
  {
   "cell_type": "code",
   "execution_count": 1,
   "id": "7f143fea",
   "metadata": {},
   "outputs": [
    {
     "name": "stderr",
     "output_type": "stream",
     "text": [
      "No model was supplied, defaulted to google/vit-base-patch16-224 and revision 3f49326 (https://huggingface.co/google/vit-base-patch16-224).\n",
      "Using a pipeline without specifying a model name and revision in production is not recommended.\n",
      "Device set to use cpu\n"
     ]
    },
    {
     "name": "stdout",
     "output_type": "stream",
     "text": [
      "Label: red fox, Vulpes vulpes, Confidence: 0.9257\n",
      "Label: grey fox, gray fox, Urocyon cinereoargenteus, Confidence: 0.0345\n",
      "Label: kit fox, Vulpes macrotis, Confidence: 0.0307\n",
      "Label: dhole, Cuon alpinus, Confidence: 0.0022\n",
      "Label: Arctic fox, white fox, Alopex lagopus, Confidence: 0.0016\n"
     ]
    }
   ],
   "source": [
    "from transformers import pipeline\n",
    "from PIL import Image\n",
    "\n",
    "# Load an image from  sample-images folder\n",
    "image = Image.open(\"sample-images/red-fox.jpg\")  \n",
    "\n",
    "# Load image classification pipeline\n",
    "classifier = pipeline(\"image-classification\")\n",
    "\n",
    "# Run classification\n",
    "predictions = classifier(image)\n",
    "\n",
    "# Show top prediction(s)\n",
    "for pred in predictions:\n",
    "    print(f\"Label: {pred['label']}, Confidence: {pred['score']:.4f}\")\n"
   ]
  },
  {
   "cell_type": "markdown",
   "id": "8f63e262",
   "metadata": {},
   "source": [
    "# 🖼️ Image Captioning with Pretrained Models\n",
    "\n",
    "In this section, we use a pre-trained image captioning model to generate full sentence descriptions based on input images.\n",
    "\n",
    "We'll use the `image-to-text` pipeline from Hugging Face."
   ]
  },
  {
   "cell_type": "code",
   "execution_count": 2,
   "id": "9684b32f",
   "metadata": {},
   "outputs": [
    {
     "data": {
      "application/vnd.jupyter.widget-view+json": {
       "model_id": "4d45d85d30da44d9a9820d6fce4182e6",
       "version_major": 2,
       "version_minor": 0
      },
      "text/plain": [
       "config.json:   0%|          | 0.00/4.56k [00:00<?, ?B/s]"
      ]
     },
     "metadata": {},
     "output_type": "display_data"
    },
    {
     "name": "stderr",
     "output_type": "stream",
     "text": [
      "d:\\Coding\\AI_Training\\ai-certification-prep\\freshvenv\\lib\\site-packages\\huggingface_hub\\file_download.py:144: UserWarning: `huggingface_hub` cache-system uses symlinks by default to efficiently store duplicated files but your machine does not support them in C:\\Users\\MarkFox\\.cache\\huggingface\\hub\\models--Salesforce--blip-image-captioning-base. Caching files will still work but in a degraded version that might require more space on your disk. This warning can be disabled by setting the `HF_HUB_DISABLE_SYMLINKS_WARNING` environment variable. For more details, see https://huggingface.co/docs/huggingface_hub/how-to-cache#limitations.\n",
      "To support symlinks on Windows, you either need to activate Developer Mode or to run Python as an administrator. In order to activate developer mode, see this article: https://docs.microsoft.com/en-us/windows/apps/get-started/enable-your-device-for-development\n",
      "  warnings.warn(message)\n"
     ]
    },
    {
     "data": {
      "application/vnd.jupyter.widget-view+json": {
       "model_id": "324cd2e89b00421d9e7dbfeba6cca31c",
       "version_major": 2,
       "version_minor": 0
      },
      "text/plain": [
       "pytorch_model.bin:   0%|          | 0.00/990M [00:00<?, ?B/s]"
      ]
     },
     "metadata": {},
     "output_type": "display_data"
    },
    {
     "data": {
      "application/vnd.jupyter.widget-view+json": {
       "model_id": "dee645b78afe46b0ade882b87ea0ff5a",
       "version_major": 2,
       "version_minor": 0
      },
      "text/plain": [
       "model.safetensors:   0%|          | 0.00/990M [00:00<?, ?B/s]"
      ]
     },
     "metadata": {},
     "output_type": "display_data"
    },
    {
     "data": {
      "application/vnd.jupyter.widget-view+json": {
       "model_id": "31a297a5e8744b6b96bd1ba9d8be27f9",
       "version_major": 2,
       "version_minor": 0
      },
      "text/plain": [
       "tokenizer_config.json:   0%|          | 0.00/506 [00:00<?, ?B/s]"
      ]
     },
     "metadata": {},
     "output_type": "display_data"
    },
    {
     "data": {
      "application/vnd.jupyter.widget-view+json": {
       "model_id": "8bf62c05a76f4083af2e37cf07fd2ea2",
       "version_major": 2,
       "version_minor": 0
      },
      "text/plain": [
       "vocab.txt:   0%|          | 0.00/232k [00:00<?, ?B/s]"
      ]
     },
     "metadata": {},
     "output_type": "display_data"
    },
    {
     "data": {
      "application/vnd.jupyter.widget-view+json": {
       "model_id": "addb92bf6ca84ccb837f9e8a5e6ef22c",
       "version_major": 2,
       "version_minor": 0
      },
      "text/plain": [
       "tokenizer.json:   0%|          | 0.00/711k [00:00<?, ?B/s]"
      ]
     },
     "metadata": {},
     "output_type": "display_data"
    },
    {
     "data": {
      "application/vnd.jupyter.widget-view+json": {
       "model_id": "4b03cb4bff5446d09dac56884c276138",
       "version_major": 2,
       "version_minor": 0
      },
      "text/plain": [
       "special_tokens_map.json:   0%|          | 0.00/125 [00:00<?, ?B/s]"
      ]
     },
     "metadata": {},
     "output_type": "display_data"
    },
    {
     "data": {
      "application/vnd.jupyter.widget-view+json": {
       "model_id": "92aab5427c78432eaf1a955a351568ea",
       "version_major": 2,
       "version_minor": 0
      },
      "text/plain": [
       "preprocessor_config.json:   0%|          | 0.00/287 [00:00<?, ?B/s]"
      ]
     },
     "metadata": {},
     "output_type": "display_data"
    },
    {
     "name": "stderr",
     "output_type": "stream",
     "text": [
      "Using a slow image processor as `use_fast` is unset and a slow processor was saved with this model. `use_fast=True` will be the default behavior in v4.52, even if the model was saved with a slow processor. This will result in minor differences in outputs. You'll still be able to use a slow processor with `use_fast=False`.\n",
      "Device set to use cpu\n"
     ]
    },
    {
     "name": "stdout",
     "output_type": "stream",
     "text": [
      "Generated Caption: a penguin standing on a snowy surface\n"
     ]
    }
   ],
   "source": [
    "from transformers import pipeline\n",
    "from PIL import Image\n",
    "\n",
    "# Load an image\n",
    "image = Image.open(\"sample-images/Penguin.jpg\") \n",
    "\n",
    "# Load the image-to-text (captioning) pipeline\n",
    "captioner = pipeline(\"image-to-text\", model=\"Salesforce/blip-image-captioning-base\")\n",
    "\n",
    "# Generate caption\n",
    "caption = captioner(image)\n",
    "\n",
    "# Display caption\n",
    "print(\"Generated Caption:\", caption[0]['generated_text'])"
   ]
  }
 ],
 "metadata": {
  "kernelspec": {
   "display_name": "Python (freshvenv)",
   "language": "python",
   "name": "freshvenv"
  },
  "language_info": {
   "codemirror_mode": {
    "name": "ipython",
    "version": 3
   },
   "file_extension": ".py",
   "mimetype": "text/x-python",
   "name": "python",
   "nbconvert_exporter": "python",
   "pygments_lexer": "ipython3",
   "version": "3.10.5"
  }
 },
 "nbformat": 4,
 "nbformat_minor": 5
}
