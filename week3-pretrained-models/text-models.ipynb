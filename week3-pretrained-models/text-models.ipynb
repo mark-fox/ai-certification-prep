{
 "cells": [
  {
   "cell_type": "markdown",
   "id": "8ebe3262",
   "metadata": {},
   "source": [
    "# 🤖 Text Models with Hugging Face Transformers\n",
    "\n",
    "This notebook explores pre-trained text models using the Hugging Face 🤗 `transformers` library.\n",
    "\n",
    "We’ll test common tasks like:\n",
    "- Sentiment analysis\n",
    "- Text summarization\n",
    "- Question answering\n",
    "\n",
    "All models were used without training — focusing on inference with pipelines.\n",
    "\n",
    "Let’s start with **sentiment analysis**."
   ]
  },
  {
   "cell_type": "code",
   "execution_count": 4,
   "id": "5efc5c78",
   "metadata": {},
   "outputs": [],
   "source": [
    "from transformers import pipeline"
   ]
  },
  {
   "cell_type": "markdown",
   "id": "c4c1c444",
   "metadata": {},
   "source": [
    "## 🎬 Task 1: Sentiment Analysis\n",
    "\n",
    "We use the `sentiment-analysis` pipeline to classify text as **positive** or **negative**, along with a confidence score."
   ]
  },
  {
   "cell_type": "code",
   "execution_count": null,
   "id": "79bfcb1c",
   "metadata": {},
   "outputs": [
    {
     "name": "stderr",
     "output_type": "stream",
     "text": [
      "No model was supplied, defaulted to distilbert/distilbert-base-uncased-finetuned-sst-2-english and revision 714eb0f (https://huggingface.co/distilbert/distilbert-base-uncased-finetuned-sst-2-english).\n",
      "Using a pipeline without specifying a model name and revision in production is not recommended.\n",
      "Device set to use cpu\n"
     ]
    },
    {
     "data": {
      "text/plain": [
       "[{'label': 'POSITIVE', 'score': 0.9998639822006226}]"
      ]
     },
     "execution_count": 2,
     "metadata": {},
     "output_type": "execute_result"
    }
   ],
   "source": [
    "from transformers import pipeline\n",
    "\n",
    "# Load a sentiment-analysis pipeline\n",
    "sentiment = pipeline(\"sentiment-analysis\")\n",
    "\n",
    "# Sample\n",
    "sentiment(\"I absolutely loved the final episode of the show!\")"
   ]
  },
  {
   "cell_type": "markdown",
   "id": "227a2008",
   "metadata": {},
   "source": [
    "## ✂️ Task 2: Text Summarization\n",
    "\n",
    "Now let’s use a pre-trained text summarization model to automatically shorten long articles or passages into quick summaries.\n",
    "\n",
    "We'll use the `summarization` pipeline from Hugging Face."
   ]
  },
  {
   "cell_type": "code",
   "execution_count": 1,
   "id": "17c2a63a",
   "metadata": {},
   "outputs": [
    {
     "name": "stderr",
     "output_type": "stream",
     "text": [
      "No model was supplied, defaulted to sshleifer/distilbart-cnn-12-6 and revision a4f8f3e (https://huggingface.co/sshleifer/distilbart-cnn-12-6).\n",
      "Using a pipeline without specifying a model name and revision in production is not recommended.\n"
     ]
    },
    {
     "data": {
      "application/vnd.jupyter.widget-view+json": {
       "model_id": "add04227510d48af9462dcc36165466f",
       "version_major": 2,
       "version_minor": 0
      },
      "text/plain": [
       "config.json:   0%|          | 0.00/1.80k [00:00<?, ?B/s]"
      ]
     },
     "metadata": {},
     "output_type": "display_data"
    },
    {
     "name": "stderr",
     "output_type": "stream",
     "text": [
      "d:\\Coding\\AI_Training\\ai-certification-prep\\freshvenv\\lib\\site-packages\\huggingface_hub\\file_download.py:144: UserWarning: `huggingface_hub` cache-system uses symlinks by default to efficiently store duplicated files but your machine does not support them in C:\\Users\\MarkFox\\.cache\\huggingface\\hub\\models--sshleifer--distilbart-cnn-12-6. Caching files will still work but in a degraded version that might require more space on your disk. This warning can be disabled by setting the `HF_HUB_DISABLE_SYMLINKS_WARNING` environment variable. For more details, see https://huggingface.co/docs/huggingface_hub/how-to-cache#limitations.\n",
      "To support symlinks on Windows, you either need to activate Developer Mode or to run Python as an administrator. In order to activate developer mode, see this article: https://docs.microsoft.com/en-us/windows/apps/get-started/enable-your-device-for-development\n",
      "  warnings.warn(message)\n"
     ]
    },
    {
     "data": {
      "application/vnd.jupyter.widget-view+json": {
       "model_id": "db432250022546a18fe9f68ea7f72e37",
       "version_major": 2,
       "version_minor": 0
      },
      "text/plain": [
       "pytorch_model.bin:   0%|          | 0.00/1.22G [00:00<?, ?B/s]"
      ]
     },
     "metadata": {},
     "output_type": "display_data"
    },
    {
     "data": {
      "application/vnd.jupyter.widget-view+json": {
       "model_id": "46b8109651284ed288db5e64a531ca4e",
       "version_major": 2,
       "version_minor": 0
      },
      "text/plain": [
       "model.safetensors:   0%|          | 0.00/1.22G [00:00<?, ?B/s]"
      ]
     },
     "metadata": {},
     "output_type": "display_data"
    },
    {
     "data": {
      "application/vnd.jupyter.widget-view+json": {
       "model_id": "5b4296a40856470c9208c4855acc9283",
       "version_major": 2,
       "version_minor": 0
      },
      "text/plain": [
       "tokenizer_config.json:   0%|          | 0.00/26.0 [00:00<?, ?B/s]"
      ]
     },
     "metadata": {},
     "output_type": "display_data"
    },
    {
     "data": {
      "application/vnd.jupyter.widget-view+json": {
       "model_id": "f319b11b1d4f42d2b259b68a1e9baaeb",
       "version_major": 2,
       "version_minor": 0
      },
      "text/plain": [
       "vocab.json:   0%|          | 0.00/899k [00:00<?, ?B/s]"
      ]
     },
     "metadata": {},
     "output_type": "display_data"
    },
    {
     "data": {
      "application/vnd.jupyter.widget-view+json": {
       "model_id": "517be4d769e143888f38548f8d595712",
       "version_major": 2,
       "version_minor": 0
      },
      "text/plain": [
       "merges.txt:   0%|          | 0.00/456k [00:00<?, ?B/s]"
      ]
     },
     "metadata": {},
     "output_type": "display_data"
    },
    {
     "name": "stderr",
     "output_type": "stream",
     "text": [
      "Device set to use cpu\n"
     ]
    },
    {
     "name": "stdout",
     "output_type": "stream",
     "text": [
      " Netflix has been pivotal in changing how people consume content, leading the way for other platforms to adopt similar models . As of 2025, Netflix boasts over 200 million subscribers worldwide .\n"
     ]
    }
   ],
   "source": [
    "from transformers import pipeline\n",
    "\n",
    "# Load the summarization pipeline\n",
    "summarizer = pipeline(\"summarization\")\n",
    "\n",
    "# Example text \n",
    "article = \"\"\"\n",
    "The Netflix company, founded in 1997, started as a DVD rental service but later expanded to streaming video, revolutionizing \n",
    "the entertainment industry. As of 2025, it boasts over 200 million subscribers worldwide. Netflix has been pivotal in changing \n",
    "how people consume content, leading the way for other platforms to adopt similar models. Their strategy of producing original \n",
    "content has not only boosted subscriber loyalty but also influenced global media production trends significantly.\n",
    "\"\"\"\n",
    "\n",
    "# Generate summary\n",
    "summary = summarizer(article, max_length=50, min_length=25, do_sample=False)\n",
    "print(summary[0]['summary_text'])"
   ]
  },
  {
   "cell_type": "markdown",
   "id": "902d0c60",
   "metadata": {},
   "source": [
    "## ❓ Task 3: Question Answering\n",
    "\n",
    "Now let’s use a pre-trained question answering model.  \n",
    "We'll give it a paragraph of context and a question, and it will extract the correct answer.\n",
    "\n",
    "We'll use the `question-answering` pipeline from Hugging Face."
   ]
  },
  {
   "cell_type": "code",
   "execution_count": 3,
   "id": "d6d61e29",
   "metadata": {},
   "outputs": [
    {
     "name": "stderr",
     "output_type": "stream",
     "text": [
      "No model was supplied, defaulted to distilbert/distilbert-base-cased-distilled-squad and revision 564e9b5 (https://huggingface.co/distilbert/distilbert-base-cased-distilled-squad).\n",
      "Using a pipeline without specifying a model name and revision in production is not recommended.\n"
     ]
    },
    {
     "data": {
      "application/vnd.jupyter.widget-view+json": {
       "model_id": "1f7afc05325e45b4945eee8ba37e9a18",
       "version_major": 2,
       "version_minor": 0
      },
      "text/plain": [
       "config.json:   0%|          | 0.00/473 [00:00<?, ?B/s]"
      ]
     },
     "metadata": {},
     "output_type": "display_data"
    },
    {
     "name": "stderr",
     "output_type": "stream",
     "text": [
      "d:\\Coding\\AI_Training\\ai-certification-prep\\freshvenv\\lib\\site-packages\\huggingface_hub\\file_download.py:144: UserWarning: `huggingface_hub` cache-system uses symlinks by default to efficiently store duplicated files but your machine does not support them in C:\\Users\\MarkFox\\.cache\\huggingface\\hub\\models--distilbert--distilbert-base-cased-distilled-squad. Caching files will still work but in a degraded version that might require more space on your disk. This warning can be disabled by setting the `HF_HUB_DISABLE_SYMLINKS_WARNING` environment variable. For more details, see https://huggingface.co/docs/huggingface_hub/how-to-cache#limitations.\n",
      "To support symlinks on Windows, you either need to activate Developer Mode or to run Python as an administrator. In order to activate developer mode, see this article: https://docs.microsoft.com/en-us/windows/apps/get-started/enable-your-device-for-development\n",
      "  warnings.warn(message)\n",
      "Xet Storage is enabled for this repo, but the 'hf_xet' package is not installed. Falling back to regular HTTP download. For better performance, install the package with: `pip install huggingface_hub[hf_xet]` or `pip install hf_xet`\n"
     ]
    },
    {
     "data": {
      "application/vnd.jupyter.widget-view+json": {
       "model_id": "4287f12db3ca44d397edebd642e364b8",
       "version_major": 2,
       "version_minor": 0
      },
      "text/plain": [
       "model.safetensors:   0%|          | 0.00/261M [00:00<?, ?B/s]"
      ]
     },
     "metadata": {},
     "output_type": "display_data"
    },
    {
     "data": {
      "application/vnd.jupyter.widget-view+json": {
       "model_id": "239dfac3d70743a6adb51b69fca07780",
       "version_major": 2,
       "version_minor": 0
      },
      "text/plain": [
       "tokenizer_config.json:   0%|          | 0.00/49.0 [00:00<?, ?B/s]"
      ]
     },
     "metadata": {},
     "output_type": "display_data"
    },
    {
     "data": {
      "application/vnd.jupyter.widget-view+json": {
       "model_id": "917e97e293594e76a624b2f0e042c0d2",
       "version_major": 2,
       "version_minor": 0
      },
      "text/plain": [
       "vocab.txt:   0%|          | 0.00/213k [00:00<?, ?B/s]"
      ]
     },
     "metadata": {},
     "output_type": "display_data"
    },
    {
     "data": {
      "application/vnd.jupyter.widget-view+json": {
       "model_id": "411afceea6d948edaa30505536cb3d20",
       "version_major": 2,
       "version_minor": 0
      },
      "text/plain": [
       "tokenizer.json:   0%|          | 0.00/436k [00:00<?, ?B/s]"
      ]
     },
     "metadata": {},
     "output_type": "display_data"
    },
    {
     "name": "stderr",
     "output_type": "stream",
     "text": [
      "Device set to use cpu\n"
     ]
    },
    {
     "name": "stdout",
     "output_type": "stream",
     "text": [
      "Answer: 1997\n"
     ]
    }
   ],
   "source": [
    "from transformers import pipeline\n",
    "\n",
    "# Load the question-answering pipeline\n",
    "qa_pipeline = pipeline(\"question-answering\")\n",
    "\n",
    "# Provide context (paragraph of information)\n",
    "context = \"\"\"\n",
    "Netflix, founded in 1997 by Reed Hastings and Marc Randolph in Scotts Valley, California, began as a DVD rental company.\n",
    "Over the years, it transitioned into a major streaming platform and original content producer. \n",
    "By 2025, Netflix has over 200 million subscribers globally and is considered a leader in the digital entertainment industry.\n",
    "\"\"\"\n",
    "\n",
    "# Define question\n",
    "question = \"When was Netflix founded?\"\n",
    "\n",
    "# Run the model\n",
    "result = qa_pipeline(question=question, context=context)\n",
    "\n",
    "# Show the answer\n",
    "print(f\"Answer: {result['answer']}\")\n"
   ]
  },
  {
   "cell_type": "markdown",
   "id": "704ce9bf",
   "metadata": {},
   "source": [
    "# 📚 Conclusion\n",
    "\n",
    "In this notebook, we successfully explored multiple pre-trained NLP models using Hugging Face Transformers:\n",
    "- Classified text sentiment\n",
    "- Summarized long articles\n",
    "- Answered questions based on context\n",
    "\n",
    "These models demonstrate the power of modern AI tools and how easily they can be integrated into applications without requiring training from scratch."
   ]
  }
 ],
 "metadata": {
  "kernelspec": {
   "display_name": "Python (freshvenv)",
   "language": "python",
   "name": "freshvenv"
  },
  "language_info": {
   "codemirror_mode": {
    "name": "ipython",
    "version": 3
   },
   "file_extension": ".py",
   "mimetype": "text/x-python",
   "name": "python",
   "nbconvert_exporter": "python",
   "pygments_lexer": "ipython3",
   "version": "3.10.5"
  }
 },
 "nbformat": 4,
 "nbformat_minor": 5
}
